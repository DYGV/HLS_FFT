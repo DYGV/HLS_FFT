{
 "cells": [
  {
   "cell_type": "code",
   "execution_count": 1,
   "metadata": {},
   "outputs": [
    {
     "data": {
      "application/javascript": [
       "\n",
       "require(['notebook/js/codecell'], function(codecell) {\n",
       "  codecell.CodeCell.options_default.highlight_modes[\n",
       "      'magic_text/x-csrc'] = {'reg':[/^%%microblaze/]};\n",
       "  Jupyter.notebook.events.one('kernel_ready.Kernel', function(){\n",
       "      Jupyter.notebook.get_cells().map(function(cell){\n",
       "          if (cell.cell_type == 'code'){ cell.auto_highlight(); } }) ;\n",
       "  });\n",
       "});\n"
      ]
     },
     "metadata": {},
     "output_type": "display_data"
    }
   ],
   "source": [
    "import numpy as np\n",
    "from pynq import Overlay, Xlnk, allocate\n",
    "\n",
    "np.set_printoptions(suppress=True)"
   ]
  },
  {
   "cell_type": "code",
   "execution_count": 2,
   "metadata": {},
   "outputs": [],
   "source": [
    "x = np.loadtxt(\"wave.txt\", dtype=np.float32)\n",
    "TWO_TO_THE_POWER_OF_N_MAX = 10\n",
    "NFFT = 1 << TWO_TO_THE_POWER_OF_N_MAX"
   ]
  },
  {
   "cell_type": "code",
   "execution_count": 3,
   "metadata": {},
   "outputs": [],
   "source": [
    "overlay = Overlay(\"fft_float_complex_pynq_z1.bit\")\n",
    "in_buffer = allocate(shape=(NFFT,), dtype=np.csingle)\n",
    "out_buffer = allocate(shape=(NFFT,), dtype=np.csingle)\n",
    "data = x[:NFFT].astype(np.csingle)\n",
    "\n",
    "#overlay = Overlay(\"fft_float_pynq_z1.bit\")\n",
    "#in_buffer = allocate(shape=(NFFT,), dtype=np.float32)\n",
    "#out_buffer = allocate(shape=(NFFT*2,), dtype=np.float32)\n",
    "#data = x[:NFFT].astype(np.float32)\n",
    "\n",
    "fft_ip = overlay.hls_fft_0\n",
    "dma_ip = overlay.axi_dma_0\n",
    "\n",
    "fft_ip.write(0x10, TWO_TO_THE_POWER_OF_N_MAX)"
   ]
  },
  {
   "cell_type": "code",
   "execution_count": 4,
   "metadata": {},
   "outputs": [],
   "source": [
    "def fft_on_hw(fft_ip, dma_ip, input_data):    \n",
    "    Xlnk.cma_memcopy(in_buffer, input_data, in_buffer.data.nbytes)\n",
    "    dma_ip.sendchannel.transfer(in_buffer)\n",
    "    dma_ip.recvchannel.transfer(out_buffer)\n",
    "    fft_ip.write(0x00, 0x01)\n",
    "    while not ((fft_ip.read(0x00) >> 1) & 0x01):\n",
    "        continue\n",
    "    dma_ip.sendchannel.wait()\n",
    "    dma_ip.recvchannel.wait() \n",
    "    return out_buffer.copy()"
   ]
  },
  {
   "cell_type": "code",
   "execution_count": 5,
   "metadata": {
    "scrolled": true
   },
   "outputs": [
    {
     "data": {
      "text/plain": [
       "PynqBuffer([ 11.94231319+0.j        ,  11.95206070-0.15409547j,\n",
       "             11.98142624-0.30866641j, ...,  12.03069210+0.46418774j,\n",
       "             11.98143768+0.30866188j,  11.95206738+0.15408981j], dtype=complex64)"
      ]
     },
     "execution_count": 5,
     "metadata": {},
     "output_type": "execute_result"
    }
   ],
   "source": [
    "fft_on_hw(fft_ip, dma_ip, data)"
   ]
  },
  {
   "cell_type": "code",
   "execution_count": null,
   "metadata": {},
   "outputs": [],
   "source": []
  }
 ],
 "metadata": {
  "kernelspec": {
   "display_name": "Python 3",
   "language": "python",
   "name": "python3"
  },
  "language_info": {
   "codemirror_mode": {
    "name": "ipython",
    "version": 3
   },
   "file_extension": ".py",
   "mimetype": "text/x-python",
   "name": "python",
   "nbconvert_exporter": "python",
   "pygments_lexer": "ipython3",
   "version": "3.6.5"
  }
 },
 "nbformat": 4,
 "nbformat_minor": 2
}
